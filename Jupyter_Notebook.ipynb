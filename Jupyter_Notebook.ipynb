{
 "cells": [
  {
   "cell_type": "markdown",
   "metadata": {},
   "source": [
    "<center>\n",
    "    <img src=\"https://s3-api.us-geo.objectstorage.softlayer.net/cf-courses-data/CognitiveClass/Logos/organization_logo/organization_logo.png\" width=\"300\" alt=\"cognitiveclass.ai logo\"  />\n",
    "</center>\n"
   ]
  },
  {
   "cell_type": "markdown",
   "metadata": {},
   "source": [
    "#### Add your code below following the instructions given in the course\n"
   ]
  },
  {
   "cell_type": "markdown",
   "metadata": {},
   "source": [
    "# My Jupyter Notebook on IBM Watson Studio"
   ]
  },
  {
   "cell_type": "markdown",
   "metadata": {},
   "source": [
    "**PONGSAGORN NUMGLIN**\n",
    "<BR>\n",
    "DATA-DRIVEN OPERATIONS ROLE, BUSINESS ANALYST or DATA SCIENTIST "
   ]
  },
  {
   "cell_type": "markdown",
   "metadata": {},
   "source": [
    "*I am interested in data science because I believe that behind data, there can be insight that we can learn to either making important decision or gain new knowledge that never exists before. Data is one of the most valuable assets that if we can harness, we will deifinitely gain the advantage. I used to work with a lot of data almost a decade ago, but the tool was mostly Excel. As data has grown exponentially, we need a new knowledge to tackle these data methodically and efficiently. It is a part of the future how we should drive the business. Therefore, I have started my journey in data science.*"
   ]
  },
  {
   "cell_type": "markdown",
   "metadata": {},
   "source": [
    "Below code is to test if the code can be executed properly. It is to calculate how many weeks are there in a year of 365 days. "
   ]
  },
  {
   "cell_type": "code",
   "execution_count": 1,
   "metadata": {},
   "outputs": [
    {
     "data": {
      "text/plain": [
       "52.142857142857146"
      ]
     },
     "execution_count": 1,
     "metadata": {},
     "output_type": "execute_result"
    }
   ],
   "source": [
    "365/7"
   ]
  },
  {
   "cell_type": "markdown",
   "metadata": {},
   "source": [
    "***\n",
    "\n",
    "The last lesson covers\n",
    "* Watson knowledge catalog\n",
    "* Data refinery\n",
    "* Modeler Flows in Watson Studio\n",
    "* IBM SPSS Statistics and IBM SPSS Modeler\n",
    "* Model Deployment Strategies\n",
    "* AutoAI and Watson OpenScale\n",
    "* ~~How to code Python~~\n",
    "\n",
    "These are the last 5 months of the year\n",
    "1. Aug\n",
    "2. Sep\n",
    "3. Oct\n",
    "4. Nov\n",
    "5. Dec\n",
    "\n",
    "***\n",
    "\n",
    "Jul 2022 Calendar\n",
    "\n",
    "| Sun || Mon || Tue || Wed || Thu || Fri || Sat |\n",
    "|---||---||---||---||---||---||---|\n",
    "|   ||   ||   ||   ||   ||1||2|\n",
    "|3||4||5||6||7||8||9|\n",
    "|10||11||12||13||14||15||16|\n",
    "|17||18||19||20||21||22||23|\n",
    "|24||25||26||27||28||29||30|\n",
    "|31|\n",
    "\n",
    "\n",
    "\n",
    "\n",
    "Here is the link to go to IBM cloud \n",
    "__[link text](http://cloud.ibm.com)__\n",
    "\n",
    "<div class=\"alert alert-block alert-danger\">\n",
    "<b>Don't:</b> Do not skip machine learning or deep learning as they will be vital skills for the future.\n",
    "</div>\n",
    "\n",
    "![](https://www.python.org/static/community_logos/python-logo-master-v3-TM.png)\n",
    "\n"
   ]
  },
  {
   "cell_type": "code",
   "execution_count": null,
   "metadata": {},
   "outputs": [],
   "source": []
  }
 ],
 "metadata": {
  "kernelspec": {
   "display_name": "Python",
   "language": "python",
   "name": "conda-env-python-py"
  },
  "language_info": {
   "codemirror_mode": {
    "name": "ipython",
    "version": 3
   },
   "file_extension": ".py",
   "mimetype": "text/x-python",
   "name": "python",
   "nbconvert_exporter": "python",
   "pygments_lexer": "ipython3",
   "version": "3.7.12"
  }
 },
 "nbformat": 4,
 "nbformat_minor": 4
}
